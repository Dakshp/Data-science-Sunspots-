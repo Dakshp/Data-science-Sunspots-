{
 "cells": [
  {
   "cell_type": "markdown",
   "metadata": {},
   "source": [
    "<h1><center>Project 2</center></h1>\n",
    "<h2><center>CS675 – Introduction to Data Science </center></h2>\n",
    "<h3><center>by</center></h3>\n",
    "<h3><center>Member 1,Member 2,Member 3</center></h3>\n",
    "\n",
    "**Task**: Implement a Time Series Forecasting model in Python, by using the TensorFlow/Keras modules\n",
    "\n",
    "**Goal**: The forecasting model should be able to predict the [Sunspots](https://www.kaggle.com/robervalt/sunspots) by using Neural Networks (NNs), specifically Recurrent Neural Networks (RNNs) and/or Long Short Term Memory (LSTMs).\n",
    "\n",
    "### Dataset description\n",
    "The dataset contains Monthly Mean Total Sunspot Number – from January 1749 to July 2018.\n",
    "\n",
    "Sunspots are temporary phenomena on the Sun's photosphere that appear as spots darker than the surrounding areas. They are regions of reduced surface temperature caused by concentrations of magnetic field flux that inhibit convection. Sunspots usually appear in pairs of opposite magnetic polarity. Their number varies according to the approximately 11-year solar cycle.\n",
    "Source: https://en.wikipedia.org/wiki/Sunspot"
   ]
  },
  {
   "cell_type": "code",
   "execution_count": 1,
   "metadata": {},
   "outputs": [],
   "source": [
    "import numpy as np\n",
    "import pandas as pd\n",
    "import matplotlib.pyplot as plt\n",
    "import matplotlib\n",
    "import tensorflow as tf\n",
    "from sklearn.preprocessing import MinMaxScaler\n",
    "from tensorflow.keras.models import Sequential\n",
    "from tensorflow.keras.layers import Dense, LSTM, Input\n",
    "from tensorflow.keras.optimizers import Adam\n",
    "from tensorflow.keras.losses import Huber,MeanAbsoluteError\n",
    "\n",
    "#figure size for matplotlib plots\n",
    "matplotlib.rcParams['figure.figsize'] = (15.0, 5.0)"
   ]
  },
  {
   "cell_type": "markdown",
   "metadata": {},
   "source": [
    "## Pipeline for completing the forecasting task\n",
    "\n",
    "1. Load the data\n",
    "2. Preprocessing the data\n",
    "3. Exploratory Analysis\n",
    "4. Data preparation\n",
    "5. Building the LSTM model\n",
    "6. Testing the model\n",
    "7. Evaluating the model"
   ]
  },
  {
   "cell_type": "markdown",
   "metadata": {},
   "source": [
    "### 1. Load the data"
   ]
  },
  {
   "cell_type": "markdown",
   "metadata": {},
   "source": [
    "#### 1.1. Read data using pandas"
   ]
  },
  {
   "cell_type": "code",
   "execution_count": 2,
   "metadata": {},
   "outputs": [],
   "source": [
    "df = pd.read_csv('data.csv')[['Date','Monthly Mean Total Sunspot Number']]"
   ]
  },
  {
   "cell_type": "markdown",
   "metadata": {},
   "source": [
    "### 2. Preprocessing the data"
   ]
  },
  {
   "cell_type": "markdown",
   "metadata": {},
   "source": [
    "#### 2.1. Create new Columns for year and month "
   ]
  },
  {
   "cell_type": "code",
   "execution_count": 3,
   "metadata": {},
   "outputs": [],
   "source": [
    "df['year'] = pd.DatetimeIndex(df['Date']).year\n",
    "df['month'] = pd.DatetimeIndex(df['Date']).month"
   ]
  },
  {
   "cell_type": "code",
   "execution_count": 4,
   "metadata": {},
   "outputs": [
    {
     "data": {
      "text/html": [
       "<div>\n",
       "<style scoped>\n",
       "    .dataframe tbody tr th:only-of-type {\n",
       "        vertical-align: middle;\n",
       "    }\n",
       "\n",
       "    .dataframe tbody tr th {\n",
       "        vertical-align: top;\n",
       "    }\n",
       "\n",
       "    .dataframe thead th {\n",
       "        text-align: right;\n",
       "    }\n",
       "</style>\n",
       "<table border=\"1\" class=\"dataframe\">\n",
       "  <thead>\n",
       "    <tr style=\"text-align: right;\">\n",
       "      <th></th>\n",
       "      <th>Date</th>\n",
       "      <th>Monthly Mean Total Sunspot Number</th>\n",
       "      <th>year</th>\n",
       "      <th>month</th>\n",
       "    </tr>\n",
       "  </thead>\n",
       "  <tbody>\n",
       "    <tr>\n",
       "      <th>3247</th>\n",
       "      <td>2019-08-31</td>\n",
       "      <td>0.5</td>\n",
       "      <td>2019</td>\n",
       "      <td>8</td>\n",
       "    </tr>\n",
       "    <tr>\n",
       "      <th>3248</th>\n",
       "      <td>2019-09-30</td>\n",
       "      <td>1.1</td>\n",
       "      <td>2019</td>\n",
       "      <td>9</td>\n",
       "    </tr>\n",
       "    <tr>\n",
       "      <th>3249</th>\n",
       "      <td>2019-10-31</td>\n",
       "      <td>0.4</td>\n",
       "      <td>2019</td>\n",
       "      <td>10</td>\n",
       "    </tr>\n",
       "    <tr>\n",
       "      <th>3250</th>\n",
       "      <td>2019-11-30</td>\n",
       "      <td>0.5</td>\n",
       "      <td>2019</td>\n",
       "      <td>11</td>\n",
       "    </tr>\n",
       "    <tr>\n",
       "      <th>3251</th>\n",
       "      <td>2019-12-31</td>\n",
       "      <td>1.6</td>\n",
       "      <td>2019</td>\n",
       "      <td>12</td>\n",
       "    </tr>\n",
       "  </tbody>\n",
       "</table>\n",
       "</div>"
      ],
      "text/plain": [
       "            Date  Monthly Mean Total Sunspot Number  year  month\n",
       "3247  2019-08-31                                0.5  2019      8\n",
       "3248  2019-09-30                                1.1  2019      9\n",
       "3249  2019-10-31                                0.4  2019     10\n",
       "3250  2019-11-30                                0.5  2019     11\n",
       "3251  2019-12-31                                1.6  2019     12"
      ]
     },
     "execution_count": 4,
     "metadata": {},
     "output_type": "execute_result"
    }
   ],
   "source": [
    "df.tail()"
   ]
  },
  {
   "cell_type": "markdown",
   "metadata": {},
   "source": [
    "#### 2.2. We now convert the dataframe to a [pivot table](https://searchsqlserver.techtarget.com/definition/pivot-table) in order to perform exploratory analysis"
   ]
  },
  {
   "cell_type": "code",
   "execution_count": 404,
   "metadata": {},
   "outputs": [
    {
     "data": {
      "text/html": [
       "<div>\n",
       "<style scoped>\n",
       "    .dataframe tbody tr th:only-of-type {\n",
       "        vertical-align: middle;\n",
       "    }\n",
       "\n",
       "    .dataframe tbody tr th {\n",
       "        vertical-align: top;\n",
       "    }\n",
       "\n",
       "    .dataframe thead th {\n",
       "        text-align: right;\n",
       "    }\n",
       "</style>\n",
       "<table border=\"1\" class=\"dataframe\">\n",
       "  <thead>\n",
       "    <tr style=\"text-align: right;\">\n",
       "      <th>year</th>\n",
       "      <th>1749</th>\n",
       "      <th>1750</th>\n",
       "      <th>1751</th>\n",
       "      <th>1752</th>\n",
       "      <th>1753</th>\n",
       "      <th>1754</th>\n",
       "      <th>1755</th>\n",
       "      <th>1756</th>\n",
       "      <th>1757</th>\n",
       "      <th>1758</th>\n",
       "      <th>...</th>\n",
       "      <th>2010</th>\n",
       "      <th>2011</th>\n",
       "      <th>2012</th>\n",
       "      <th>2013</th>\n",
       "      <th>2014</th>\n",
       "      <th>2015</th>\n",
       "      <th>2016</th>\n",
       "      <th>2017</th>\n",
       "      <th>2018</th>\n",
       "      <th>2019</th>\n",
       "    </tr>\n",
       "    <tr>\n",
       "      <th>month</th>\n",
       "      <th></th>\n",
       "      <th></th>\n",
       "      <th></th>\n",
       "      <th></th>\n",
       "      <th></th>\n",
       "      <th></th>\n",
       "      <th></th>\n",
       "      <th></th>\n",
       "      <th></th>\n",
       "      <th></th>\n",
       "      <th></th>\n",
       "      <th></th>\n",
       "      <th></th>\n",
       "      <th></th>\n",
       "      <th></th>\n",
       "      <th></th>\n",
       "      <th></th>\n",
       "      <th></th>\n",
       "      <th></th>\n",
       "      <th></th>\n",
       "      <th></th>\n",
       "    </tr>\n",
       "  </thead>\n",
       "  <tbody>\n",
       "    <tr>\n",
       "      <th>1</th>\n",
       "      <td>96.7</td>\n",
       "      <td>122.2</td>\n",
       "      <td>116.7</td>\n",
       "      <td>58.3</td>\n",
       "      <td>73.3</td>\n",
       "      <td>0.0</td>\n",
       "      <td>17.0</td>\n",
       "      <td>20.8</td>\n",
       "      <td>23.5</td>\n",
       "      <td>62.7</td>\n",
       "      <td>...</td>\n",
       "      <td>19.5</td>\n",
       "      <td>27.3</td>\n",
       "      <td>94.4</td>\n",
       "      <td>96.1</td>\n",
       "      <td>117.0</td>\n",
       "      <td>93.0</td>\n",
       "      <td>57.0</td>\n",
       "      <td>26.1</td>\n",
       "      <td>6.8</td>\n",
       "      <td>7.7</td>\n",
       "    </tr>\n",
       "    <tr>\n",
       "      <th>2</th>\n",
       "      <td>104.3</td>\n",
       "      <td>126.5</td>\n",
       "      <td>72.5</td>\n",
       "      <td>83.3</td>\n",
       "      <td>53.3</td>\n",
       "      <td>5.0</td>\n",
       "      <td>18.7</td>\n",
       "      <td>11.8</td>\n",
       "      <td>35.3</td>\n",
       "      <td>86.7</td>\n",
       "      <td>...</td>\n",
       "      <td>28.5</td>\n",
       "      <td>48.3</td>\n",
       "      <td>47.8</td>\n",
       "      <td>60.9</td>\n",
       "      <td>146.1</td>\n",
       "      <td>66.7</td>\n",
       "      <td>56.4</td>\n",
       "      <td>26.4</td>\n",
       "      <td>10.7</td>\n",
       "      <td>0.8</td>\n",
       "    </tr>\n",
       "    <tr>\n",
       "      <th>3</th>\n",
       "      <td>116.7</td>\n",
       "      <td>148.7</td>\n",
       "      <td>75.5</td>\n",
       "      <td>118.3</td>\n",
       "      <td>76.2</td>\n",
       "      <td>2.8</td>\n",
       "      <td>11.3</td>\n",
       "      <td>9.0</td>\n",
       "      <td>43.7</td>\n",
       "      <td>81.7</td>\n",
       "      <td>...</td>\n",
       "      <td>24.0</td>\n",
       "      <td>78.6</td>\n",
       "      <td>86.6</td>\n",
       "      <td>78.3</td>\n",
       "      <td>128.7</td>\n",
       "      <td>54.5</td>\n",
       "      <td>54.1</td>\n",
       "      <td>17.7</td>\n",
       "      <td>2.5</td>\n",
       "      <td>9.4</td>\n",
       "    </tr>\n",
       "    <tr>\n",
       "      <th>4</th>\n",
       "      <td>92.8</td>\n",
       "      <td>147.2</td>\n",
       "      <td>94.0</td>\n",
       "      <td>98.8</td>\n",
       "      <td>63.3</td>\n",
       "      <td>22.8</td>\n",
       "      <td>10.8</td>\n",
       "      <td>15.7</td>\n",
       "      <td>50.0</td>\n",
       "      <td>120.5</td>\n",
       "      <td>...</td>\n",
       "      <td>10.4</td>\n",
       "      <td>76.1</td>\n",
       "      <td>85.9</td>\n",
       "      <td>107.3</td>\n",
       "      <td>112.5</td>\n",
       "      <td>75.3</td>\n",
       "      <td>37.9</td>\n",
       "      <td>32.3</td>\n",
       "      <td>8.9</td>\n",
       "      <td>9.1</td>\n",
       "    </tr>\n",
       "    <tr>\n",
       "      <th>5</th>\n",
       "      <td>141.7</td>\n",
       "      <td>150.0</td>\n",
       "      <td>101.2</td>\n",
       "      <td>99.5</td>\n",
       "      <td>60.0</td>\n",
       "      <td>34.5</td>\n",
       "      <td>0.0</td>\n",
       "      <td>20.8</td>\n",
       "      <td>63.5</td>\n",
       "      <td>77.3</td>\n",
       "      <td>...</td>\n",
       "      <td>13.9</td>\n",
       "      <td>58.2</td>\n",
       "      <td>96.5</td>\n",
       "      <td>120.2</td>\n",
       "      <td>112.5</td>\n",
       "      <td>88.8</td>\n",
       "      <td>51.5</td>\n",
       "      <td>18.9</td>\n",
       "      <td>13.1</td>\n",
       "      <td>9.9</td>\n",
       "    </tr>\n",
       "    <tr>\n",
       "      <th>6</th>\n",
       "      <td>139.2</td>\n",
       "      <td>166.7</td>\n",
       "      <td>84.5</td>\n",
       "      <td>66.0</td>\n",
       "      <td>52.8</td>\n",
       "      <td>44.5</td>\n",
       "      <td>0.0</td>\n",
       "      <td>21.5</td>\n",
       "      <td>21.3</td>\n",
       "      <td>75.0</td>\n",
       "      <td>...</td>\n",
       "      <td>18.8</td>\n",
       "      <td>56.1</td>\n",
       "      <td>92.0</td>\n",
       "      <td>76.7</td>\n",
       "      <td>102.9</td>\n",
       "      <td>66.5</td>\n",
       "      <td>20.5</td>\n",
       "      <td>19.2</td>\n",
       "      <td>15.6</td>\n",
       "      <td>1.2</td>\n",
       "    </tr>\n",
       "    <tr>\n",
       "      <th>7</th>\n",
       "      <td>158.0</td>\n",
       "      <td>142.3</td>\n",
       "      <td>110.5</td>\n",
       "      <td>130.7</td>\n",
       "      <td>36.7</td>\n",
       "      <td>31.3</td>\n",
       "      <td>14.3</td>\n",
       "      <td>6.0</td>\n",
       "      <td>41.7</td>\n",
       "      <td>73.3</td>\n",
       "      <td>...</td>\n",
       "      <td>25.2</td>\n",
       "      <td>64.5</td>\n",
       "      <td>100.1</td>\n",
       "      <td>86.2</td>\n",
       "      <td>100.2</td>\n",
       "      <td>65.8</td>\n",
       "      <td>32.4</td>\n",
       "      <td>17.8</td>\n",
       "      <td>1.6</td>\n",
       "      <td>0.9</td>\n",
       "    </tr>\n",
       "    <tr>\n",
       "      <th>8</th>\n",
       "      <td>110.5</td>\n",
       "      <td>171.7</td>\n",
       "      <td>99.7</td>\n",
       "      <td>48.8</td>\n",
       "      <td>65.0</td>\n",
       "      <td>20.5</td>\n",
       "      <td>5.3</td>\n",
       "      <td>10.7</td>\n",
       "      <td>85.5</td>\n",
       "      <td>64.5</td>\n",
       "      <td>...</td>\n",
       "      <td>29.6</td>\n",
       "      <td>65.8</td>\n",
       "      <td>94.8</td>\n",
       "      <td>91.8</td>\n",
       "      <td>106.9</td>\n",
       "      <td>64.4</td>\n",
       "      <td>50.2</td>\n",
       "      <td>32.6</td>\n",
       "      <td>8.7</td>\n",
       "      <td>0.5</td>\n",
       "    </tr>\n",
       "    <tr>\n",
       "      <th>9</th>\n",
       "      <td>126.5</td>\n",
       "      <td>152.0</td>\n",
       "      <td>39.2</td>\n",
       "      <td>45.2</td>\n",
       "      <td>46.7</td>\n",
       "      <td>13.7</td>\n",
       "      <td>29.7</td>\n",
       "      <td>19.7</td>\n",
       "      <td>66.2</td>\n",
       "      <td>104.2</td>\n",
       "      <td>...</td>\n",
       "      <td>36.4</td>\n",
       "      <td>120.1</td>\n",
       "      <td>93.7</td>\n",
       "      <td>54.5</td>\n",
       "      <td>130.0</td>\n",
       "      <td>78.6</td>\n",
       "      <td>44.6</td>\n",
       "      <td>43.7</td>\n",
       "      <td>3.3</td>\n",
       "      <td>1.1</td>\n",
       "    </tr>\n",
       "    <tr>\n",
       "      <th>10</th>\n",
       "      <td>125.8</td>\n",
       "      <td>109.5</td>\n",
       "      <td>38.7</td>\n",
       "      <td>77.7</td>\n",
       "      <td>41.7</td>\n",
       "      <td>40.2</td>\n",
       "      <td>39.5</td>\n",
       "      <td>23.8</td>\n",
       "      <td>54.2</td>\n",
       "      <td>62.8</td>\n",
       "      <td>...</td>\n",
       "      <td>33.6</td>\n",
       "      <td>125.7</td>\n",
       "      <td>76.5</td>\n",
       "      <td>114.4</td>\n",
       "      <td>90.0</td>\n",
       "      <td>63.6</td>\n",
       "      <td>33.4</td>\n",
       "      <td>13.2</td>\n",
       "      <td>4.9</td>\n",
       "      <td>0.4</td>\n",
       "    </tr>\n",
       "    <tr>\n",
       "      <th>11</th>\n",
       "      <td>264.3</td>\n",
       "      <td>105.5</td>\n",
       "      <td>47.5</td>\n",
       "      <td>62.7</td>\n",
       "      <td>33.3</td>\n",
       "      <td>22.0</td>\n",
       "      <td>11.3</td>\n",
       "      <td>28.3</td>\n",
       "      <td>107.8</td>\n",
       "      <td>71.7</td>\n",
       "      <td>...</td>\n",
       "      <td>34.4</td>\n",
       "      <td>139.1</td>\n",
       "      <td>87.6</td>\n",
       "      <td>113.9</td>\n",
       "      <td>103.6</td>\n",
       "      <td>62.2</td>\n",
       "      <td>21.4</td>\n",
       "      <td>5.7</td>\n",
       "      <td>4.9</td>\n",
       "      <td>0.5</td>\n",
       "    </tr>\n",
       "    <tr>\n",
       "      <th>12</th>\n",
       "      <td>142.0</td>\n",
       "      <td>125.7</td>\n",
       "      <td>73.3</td>\n",
       "      <td>66.7</td>\n",
       "      <td>11.2</td>\n",
       "      <td>7.0</td>\n",
       "      <td>33.3</td>\n",
       "      <td>15.7</td>\n",
       "      <td>55.8</td>\n",
       "      <td>71.7</td>\n",
       "      <td>...</td>\n",
       "      <td>24.5</td>\n",
       "      <td>109.3</td>\n",
       "      <td>56.8</td>\n",
       "      <td>124.2</td>\n",
       "      <td>112.9</td>\n",
       "      <td>58.0</td>\n",
       "      <td>18.5</td>\n",
       "      <td>8.2</td>\n",
       "      <td>3.1</td>\n",
       "      <td>1.6</td>\n",
       "    </tr>\n",
       "  </tbody>\n",
       "</table>\n",
       "<p>12 rows × 271 columns</p>\n",
       "</div>"
      ],
      "text/plain": [
       "year    1749   1750   1751   1752  1753  1754  1755  1756   1757   1758  ...  \\\n",
       "month                                                                    ...   \n",
       "1       96.7  122.2  116.7   58.3  73.3   0.0  17.0  20.8   23.5   62.7  ...   \n",
       "2      104.3  126.5   72.5   83.3  53.3   5.0  18.7  11.8   35.3   86.7  ...   \n",
       "3      116.7  148.7   75.5  118.3  76.2   2.8  11.3   9.0   43.7   81.7  ...   \n",
       "4       92.8  147.2   94.0   98.8  63.3  22.8  10.8  15.7   50.0  120.5  ...   \n",
       "5      141.7  150.0  101.2   99.5  60.0  34.5   0.0  20.8   63.5   77.3  ...   \n",
       "6      139.2  166.7   84.5   66.0  52.8  44.5   0.0  21.5   21.3   75.0  ...   \n",
       "7      158.0  142.3  110.5  130.7  36.7  31.3  14.3   6.0   41.7   73.3  ...   \n",
       "8      110.5  171.7   99.7   48.8  65.0  20.5   5.3  10.7   85.5   64.5  ...   \n",
       "9      126.5  152.0   39.2   45.2  46.7  13.7  29.7  19.7   66.2  104.2  ...   \n",
       "10     125.8  109.5   38.7   77.7  41.7  40.2  39.5  23.8   54.2   62.8  ...   \n",
       "11     264.3  105.5   47.5   62.7  33.3  22.0  11.3  28.3  107.8   71.7  ...   \n",
       "12     142.0  125.7   73.3   66.7  11.2   7.0  33.3  15.7   55.8   71.7  ...   \n",
       "\n",
       "year   2010   2011   2012   2013   2014  2015  2016  2017  2018  2019  \n",
       "month                                                                  \n",
       "1      19.5   27.3   94.4   96.1  117.0  93.0  57.0  26.1   6.8   7.7  \n",
       "2      28.5   48.3   47.8   60.9  146.1  66.7  56.4  26.4  10.7   0.8  \n",
       "3      24.0   78.6   86.6   78.3  128.7  54.5  54.1  17.7   2.5   9.4  \n",
       "4      10.4   76.1   85.9  107.3  112.5  75.3  37.9  32.3   8.9   9.1  \n",
       "5      13.9   58.2   96.5  120.2  112.5  88.8  51.5  18.9  13.1   9.9  \n",
       "6      18.8   56.1   92.0   76.7  102.9  66.5  20.5  19.2  15.6   1.2  \n",
       "7      25.2   64.5  100.1   86.2  100.2  65.8  32.4  17.8   1.6   0.9  \n",
       "8      29.6   65.8   94.8   91.8  106.9  64.4  50.2  32.6   8.7   0.5  \n",
       "9      36.4  120.1   93.7   54.5  130.0  78.6  44.6  43.7   3.3   1.1  \n",
       "10     33.6  125.7   76.5  114.4   90.0  63.6  33.4  13.2   4.9   0.4  \n",
       "11     34.4  139.1   87.6  113.9  103.6  62.2  21.4   5.7   4.9   0.5  \n",
       "12     24.5  109.3   56.8  124.2  112.9  58.0  18.5   8.2   3.1   1.6  \n",
       "\n",
       "[12 rows x 271 columns]"
      ]
     },
     "execution_count": 404,
     "metadata": {},
     "output_type": "execute_result"
    }
   ],
   "source": [
    "pv = pd.pivot_table(df, index=df.month, columns=df.year,\n",
    "                    values='Monthly Mean Total Sunspot Number', aggfunc='sum')\n",
    "pv"
   ]
  },
  {
   "cell_type": "markdown",
   "metadata": {},
   "source": [
    "### 3. Exploratory Analysis"
   ]
  },
  {
   "cell_type": "markdown",
   "metadata": {},
   "source": [
    "#### 3.1. Time series plot for the first 5 years"
   ]
  },
  {
   "cell_type": "code",
   "execution_count": 272,
   "metadata": {},
   "outputs": [
    {
     "data": {
      "image/png": "[encoded data removed]",
      "text/plain": [
       "<Figure size 1080x360 with 1 Axes>"
      ]
     },
     "metadata": {
      "needs_background": "light"
     },
     "output_type": "display_data"
    }
   ],
   "source": [
    "years = pv.columns[:5]\n",
    "plt.ylabel('Monthly Mean Total Sunspot Number')\n",
    "plt.show()"
   ]
  },
  {
   "cell_type": "markdown",
   "metadata": {},
   "source": [
    "#### 3.2. Now, lets see how the time series look from 1749 to july 2018"
   ]
  },
  {
   "cell_type": "code",
   "execution_count": 278,
   "metadata": {
    "scrolled": true
   },
   "outputs": [
    {
     "data": {
      "image/png": "[encoded data removed]",
      "text/plain": [
       "<Figure size 1080x360 with 1 Axes>"
      ]
     },
     "metadata": {
      "needs_background": "light"
     },
     "output_type": "display_data"
    }
   ],
   "source": [
    "plt.plot(df['year'],df['Monthly Mean Total Sunspot Number'])\n",
    "plt.xlabel('Years')\n",
    "plt.ylabel('Monthly Mean Total Sunspot Number')\n",
    "plt.show()"
   ]
  },
  {
   "cell_type": "markdown",
   "metadata": {},
   "source": [
    "### 4. Data preparation "
   ]
  },
  {
   "cell_type": "markdown",
   "metadata": {},
   "source": [
    "#### 4.1. Now, we split the data into fix intervals with along with a prediction value."
   ]
  },
  {
   "cell_type": "code",
   "execution_count": 61,
   "metadata": {},
   "outputs": [],
   "source": [
    "years = 7 #hyperparameter\n",
    "interval = 12*years \n",
    "X,y = [],[]\n",
    "length = 3234\n",
    "values = np.expand_dims(np.array(df['Monthly Mean Total Sunspot Number']),1)\n",
    "for i in range (length):\n",
    "    if i+interval < length:\n",
    "        X.append(values[i:i+interval])\n",
    "        y.append(values[i+interval])\n",
    "X,y = np.array(X),np.array(y)"
   ]
  },
  {
   "cell_type": "markdown",
   "metadata": {},
   "source": [
    "#### 4.2. we will now split our dataset into training and validation set."
   ]
  },
  {
   "cell_type": "code",
   "execution_count": 62,
   "metadata": {},
   "outputs": [],
   "source": [
    "from sklearn.model_selection import train_test_split\n",
    "X_train, X_val, y_train, y_val = train_test_split(X, y, test_size=0.33, random_state=42)"
   ]
  },
  {
   "cell_type": "markdown",
   "metadata": {},
   "source": [
    "### 5. Building the LSTM model"
   ]
  },
  {
   "cell_type": "markdown",
   "metadata": {},
   "source": [
    "#### 5.1. Set the hyperparameters"
   ]
  },
  {
   "cell_type": "code",
   "execution_count": 66,
   "metadata": {},
   "outputs": [],
   "source": [
    "#hyperparameters\n",
    "units = 32\n",
    "epochs = 50\n",
    "batch_size = 32\n",
    "learning_rate = 0.001\n",
    "\n",
    "#activation function\n",
    "activation = 'relu'\n",
    "\n",
    "#optimizer\n",
    "optimizer = Adam(learning_rate=learning_rate)\n",
    "\n",
    "#loss function\n",
    "loss = Huber()#'mse'"
   ]
  },
  {
   "cell_type": "markdown",
   "metadata": {},
   "source": [
    "#### 5.2. Build the model using keras"
   ]
  },
  {
   "cell_type": "code",
   "execution_count": 67,
   "metadata": {
    "scrolled": false
   },
   "outputs": [
    {
     "name": "stdout",
     "output_type": "stream",
     "text": [
      "Model: \"sunspot_model\"\n",
      "_________________________________________________________________\n",
      "Layer (type)                 Output Shape              Param #   \n",
      "=================================================================\n",
      "LSTM_1 (LSTM)                (None, 84, 32)            4352      \n",
      "_________________________________________________________________\n",
      "LSTM_2 (LSTM)                (None, 32)                8320      \n",
      "_________________________________________________________________\n",
      "Output (Dense)               (None, 1)                 33        \n",
      "=================================================================\n",
      "Total params: 12,705\n",
      "Trainable params: 12,705\n",
      "Non-trainable params: 0\n",
      "_________________________________________________________________\n"
     ]
    }
   ],
   "source": [
    "model = Sequential(name = 'sunspot_model')\n",
    "model.add(Input(shape = (interval,1)))\n",
    "model.add(LSTM(units, return_sequences = True,activation = activation,name = 'LSTM_1'))\n",
    "model.add(LSTM(units, return_sequences = False,activation = activation,name = 'LSTM_2'))\n",
    "model.add(Dense(1,  activation = activation, name = 'Output'))\n",
    "model.compile(loss = loss, optimizer=optimizer,metrics = ['mae'])\n",
    "model.summary()"
   ]
  },
  {
   "cell_type": "markdown",
   "metadata": {},
   "source": [
    "#### 5.3. Training the model"
   ]
  },
  {
   "cell_type": "code",
   "execution_count": 68,
   "metadata": {
    "scrolled": true
   },
   "outputs": [
    {
     "name": "stdout",
     "output_type": "stream",
     "text": [
      "Epoch 1/50\n",
      "66/66 - 7s - loss: 1062.8143 - mae: 1063.3055 - val_loss: 2639.4490 - val_mae: 2639.9387\n",
      "Epoch 2/50\n",
      "66/66 - 7s - loss: 1395.2719 - mae: 1395.7620 - val_loss: 1518.4547 - val_mae: 1518.9463\n",
      "Epoch 3/50\n",
      "66/66 - 7s - loss: 1626.6134 - mae: 1627.1030 - val_loss: 858.7679 - val_mae: 859.2577\n",
      "Epoch 4/50\n",
      "66/66 - 8s - loss: 405.2835 - mae: 405.7728 - val_loss: 183.0763 - val_mae: 183.5648\n",
      "Epoch 5/50\n",
      "66/66 - 7s - loss: 126.4954 - mae: 126.9846 - val_loss: 111.5994 - val_mae: 112.0875\n",
      "Epoch 6/50\n",
      "66/66 - 7s - loss: 94.0056 - mae: 94.4951 - val_loss: 93.3513 - val_mae: 93.8394\n",
      "Epoch 7/50\n",
      "66/66 - 7s - loss: 93.0785 - mae: 93.5673 - val_loss: 83.4671 - val_mae: 83.9552\n",
      "Epoch 8/50\n",
      "66/66 - 6s - loss: 86.1849 - mae: 86.6736 - val_loss: 84.9750 - val_mae: 85.4631\n",
      "Epoch 9/50\n",
      "66/66 - 7s - loss: 86.3010 - mae: 86.7898 - val_loss: 99.8847 - val_mae: 100.3728\n",
      "Epoch 10/50\n",
      "66/66 - 7s - loss: 85.0031 - mae: 85.4918 - val_loss: 84.4904 - val_mae: 84.9785\n",
      "Epoch 11/50\n",
      "66/66 - 15s - loss: 89.5587 - mae: 90.0475 - val_loss: 85.9443 - val_mae: 86.4324\n",
      "Epoch 12/50\n",
      "66/66 - 8s - loss: 86.5836 - mae: 87.0726 - val_loss: 82.5245 - val_mae: 83.0126\n",
      "Epoch 13/50\n",
      "66/66 - 8s - loss: 86.8248 - mae: 87.3136 - val_loss: 83.8216 - val_mae: 84.3097\n",
      "Epoch 14/50\n",
      "66/66 - 15s - loss: 85.1273 - mae: 85.6160 - val_loss: 82.7294 - val_mae: 83.2175\n",
      "Epoch 15/50\n",
      "66/66 - 7s - loss: 83.5405 - mae: 84.0295 - val_loss: 83.3599 - val_mae: 83.8480\n",
      "Epoch 16/50\n",
      "66/66 - 8s - loss: 86.9437 - mae: 87.4326 - val_loss: 84.2224 - val_mae: 84.7105\n",
      "Epoch 17/50\n",
      "66/66 - 8s - loss: 84.1413 - mae: 84.6303 - val_loss: 83.0562 - val_mae: 83.5443\n",
      "Epoch 18/50\n",
      "66/66 - 6s - loss: 84.7726 - mae: 85.2613 - val_loss: 85.4641 - val_mae: 85.9523\n",
      "Epoch 19/50\n",
      "66/66 - 7s - loss: 87.1151 - mae: 87.6041 - val_loss: 83.8242 - val_mae: 84.3123\n",
      "Epoch 20/50\n",
      "66/66 - 8s - loss: 84.7046 - mae: 85.1934 - val_loss: 83.0824 - val_mae: 83.5705\n",
      "Epoch 21/50\n",
      "66/66 - 8s - loss: 85.0328 - mae: 85.5216 - val_loss: 84.8154 - val_mae: 85.3035\n",
      "Epoch 22/50\n",
      "66/66 - 7s - loss: 84.1528 - mae: 84.6416 - val_loss: 103.9673 - val_mae: 104.4553\n",
      "Epoch 23/50\n",
      "66/66 - 7s - loss: 99.1261 - mae: 99.6149 - val_loss: 100.2651 - val_mae: 100.7532\n",
      "Epoch 24/50\n",
      "66/66 - 7s - loss: 81.9897 - mae: 82.4785 - val_loss: 82.4873 - val_mae: 82.9754\n",
      "Epoch 25/50\n",
      "66/66 - 8s - loss: 82.2562 - mae: 82.7450 - val_loss: 82.4873 - val_mae: 82.9754\n",
      "Epoch 26/50\n",
      "66/66 - 7s - loss: 82.1176 - mae: 82.6064 - val_loss: 82.4183 - val_mae: 82.9064\n",
      "Epoch 27/50\n",
      "66/66 - 8s - loss: 82.1108 - mae: 82.5996 - val_loss: 82.4873 - val_mae: 82.9754\n",
      "Epoch 28/50\n",
      "66/66 - 7s - loss: 82.1108 - mae: 82.5996 - val_loss: 82.4873 - val_mae: 82.9754\n",
      "Epoch 29/50\n",
      "66/66 - 8s - loss: 82.1108 - mae: 82.5996 - val_loss: 82.4873 - val_mae: 82.9754\n",
      "Epoch 30/50\n",
      "66/66 - 8s - loss: 82.1108 - mae: 82.5996 - val_loss: 82.4873 - val_mae: 82.9754\n",
      "Epoch 31/50\n",
      "66/66 - 8s - loss: 82.1108 - mae: 82.5996 - val_loss: 82.4873 - val_mae: 82.9754\n",
      "Epoch 32/50\n",
      "66/66 - 8s - loss: 82.1108 - mae: 82.5996 - val_loss: 82.4873 - val_mae: 82.9754\n",
      "Epoch 33/50\n",
      "66/66 - 8s - loss: 82.1108 - mae: 82.5996 - val_loss: 82.4873 - val_mae: 82.9754\n",
      "Epoch 34/50\n",
      "66/66 - 7s - loss: 82.1108 - mae: 82.5996 - val_loss: 82.4873 - val_mae: 82.9754\n",
      "Epoch 35/50\n",
      "66/66 - 7s - loss: 82.1108 - mae: 82.5996 - val_loss: 82.4873 - val_mae: 82.9754\n",
      "Epoch 36/50\n",
      "66/66 - 7s - loss: 82.1108 - mae: 82.5996 - val_loss: 82.4873 - val_mae: 82.9754\n",
      "Epoch 37/50\n",
      "66/66 - 7s - loss: 82.1108 - mae: 82.5996 - val_loss: 82.4873 - val_mae: 82.9754\n",
      "Epoch 38/50\n",
      "66/66 - 7s - loss: 82.1108 - mae: 82.5996 - val_loss: 82.4873 - val_mae: 82.9754\n",
      "Epoch 39/50\n",
      "66/66 - 7s - loss: 82.1108 - mae: 82.5996 - val_loss: 82.4873 - val_mae: 82.9754\n",
      "Epoch 40/50\n",
      "66/66 - 7s - loss: 82.1108 - mae: 82.5996 - val_loss: 82.4873 - val_mae: 82.9754\n",
      "Epoch 41/50\n",
      "66/66 - 7s - loss: 82.1108 - mae: 82.5996 - val_loss: 82.4873 - val_mae: 82.9754\n",
      "Epoch 42/50\n",
      "66/66 - 6s - loss: 82.1108 - mae: 82.5996 - val_loss: 82.4873 - val_mae: 82.9754\n",
      "Epoch 43/50\n",
      "66/66 - 6s - loss: 82.1108 - mae: 82.5996 - val_loss: 82.4873 - val_mae: 82.9754\n",
      "Epoch 44/50\n",
      "66/66 - 7s - loss: 82.1108 - mae: 82.5996 - val_loss: 82.4873 - val_mae: 82.9754\n",
      "Epoch 45/50\n",
      "66/66 - 8s - loss: 82.1108 - mae: 82.5996 - val_loss: 82.4873 - val_mae: 82.9754\n",
      "Epoch 46/50\n",
      "66/66 - 11s - loss: 82.1108 - mae: 82.5996 - val_loss: 82.4873 - val_mae: 82.9754\n",
      "Epoch 47/50\n",
      "66/66 - 7s - loss: 82.1108 - mae: 82.5996 - val_loss: 82.4873 - val_mae: 82.9754\n",
      "Epoch 48/50\n",
      "66/66 - 8s - loss: 82.1108 - mae: 82.5996 - val_loss: 82.4873 - val_mae: 82.9754\n",
      "Epoch 49/50\n",
      "66/66 - 8s - loss: 82.1108 - mae: 82.5996 - val_loss: 82.4873 - val_mae: 82.9754\n",
      "Epoch 50/50\n",
      "66/66 - 10s - loss: 82.1108 - mae: 82.5996 - val_loss: 82.4873 - val_mae: 82.9754\n"
     ]
    }
   ],
   "source": [
    "history = model.fit(X_train, y_train, epochs=epochs, batch_size=batch_size, verbose=2,validation_data=(X_val, y_val))"
   ]
  },
  {
   "cell_type": "markdown",
   "metadata": {},
   "source": [
    "#### 5.4. Plot training and validation loss "
   ]
  },
  {
   "cell_type": "code",
   "execution_count": 69,
   "metadata": {},
   "outputs": [
    {
     "data": {
      "image/png": "[encoded data removed]",
      "text/plain": [
       "<Figure size 1080x360 with 1 Axes>"
      ]
     },
     "metadata": {
      "needs_background": "light"
     },
     "output_type": "display_data"
    }
   ],
   "source": [
    "plt.plot(history.history['loss'])\n",
    "plt.plot(history.history['val_loss'])\n",
    "plt.title('model loss')\n",
    "plt.ylabel('loss')\n",
    "plt.xlabel('epoch')\n",
    "plt.legend(['train', 'validation'])\n",
    "plt.show()"
   ]
  },
  {
   "cell_type": "markdown",
   "metadata": {},
   "source": [
    "### 6. Testing the model"
   ]
  },
  {
   "cell_type": "markdown",
   "metadata": {},
   "source": [
    "#### 6.1. Prediction from Aug 2018 to Dec 2019"
   ]
  },
  {
   "cell_type": "code",
   "execution_count": 20,
   "metadata": {},
   "outputs": [],
   "source": [
    "test = np.array(df['Monthly Mean Total Sunspot Number'][-19:])\n",
    "test_years = np.array(df['year'][-19:])\n",
    "test = values[-19:,:]"
   ]
  },
  {
   "cell_type": "code",
   "execution_count": 70,
   "metadata": {},
   "outputs": [],
   "source": [
    "history = tf.convert_to_tensor(np.expand_dims(X[-1],0))\n",
    "prediction_list = []\n",
    "for i in range(len(test)):\n",
    "    prediction = model.predict(history)\n",
    "    prediction_list.append(prediction.ravel())\n",
    "    prediction = np.expand_dims(prediction,0)\n",
    "    history = np.delete(history, (0), axis=1)\n",
    "    history = np.append(history, prediction,axis= 1)"
   ]
  },
  {
   "cell_type": "markdown",
   "metadata": {},
   "source": [
    "#### 6.2. Plot the results against the real forecasts"
   ]
  },
  {
   "cell_type": "code",
   "execution_count": 71,
   "metadata": {},
   "outputs": [
    {
     "data": {
      "image/png": "[encoded data removed]",
      "text/plain": [
       "<Figure size 1080x360 with 1 Axes>"
      ]
     },
     "metadata": {
      "needs_background": "light"
     },
     "output_type": "display_data"
    }
   ],
   "source": [
    "plt.plot(prediction_list, label='Predicted forecast')\n",
    "plt.plot(test, label = 'True forecast')\n",
    "plt.xlabel('Years')\n",
    "plt.ylabel('Monthly Mean Total Sunspot Number')\n",
    "plt.legend()\n",
    "plt.show()"
   ]
  },
  {
   "cell_type": "code",
   "execution_count": null,
   "metadata": {},
   "outputs": [],
   "source": []
  }
 ],
 "metadata": {
  "kernelspec": {
   "display_name": "Python 3",
   "language": "python",
   "name": "python3"
  },
  "language_info": {
   "codemirror_mode": {
    "name": "ipython",
    "version": 3
   },
   "file_extension": ".py",
   "mimetype": "text/x-python",
   "name": "python",
   "nbconvert_exporter": "python",
   "pygments_lexer": "ipython3",
   "version": "3.8.3"
  }
 },
 "nbformat": 4,
 "nbformat_minor": 4
}
